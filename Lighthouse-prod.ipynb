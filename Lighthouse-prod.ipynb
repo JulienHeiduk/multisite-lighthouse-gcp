{
 "cells": [
  {
   "cell_type": "markdown",
   "metadata": {},
   "source": [
    "Ce notebook permet de simuler la donnée d'entrée du pipeline avec deux urls, de mettre à jour la configuration pour la Google Cloud Fonction, de déployer la Google Cloud Fonction et de la lancer lorsque cela a été déjà fait en ligne de commande."
   ]
  },
  {
   "cell_type": "markdown",
   "metadata": {},
   "source": [
    "# Etape 1: Simulation d'un fichier d'entrée "
   ]
  },
  {
   "cell_type": "code",
   "execution_count": 1,
   "metadata": {},
   "outputs": [],
   "source": [
    "import pandas as pd\n",
    "import json\n",
    "\n",
    "df = pd.DataFrame.from_dict({\"url\": [\"https://www.groupedubreuil.com/\",\"https://www.groupedubreuil.com/le-mot-des-presidents\"]\n",
    "                             , \"id\": [\"0\",\"1\"]})"
   ]
  },
  {
   "cell_type": "code",
   "execution_count": 2,
   "metadata": {},
   "outputs": [
    {
     "data": {
      "text/html": [
       "<div>\n",
       "<style scoped>\n",
       "    .dataframe tbody tr th:only-of-type {\n",
       "        vertical-align: middle;\n",
       "    }\n",
       "\n",
       "    .dataframe tbody tr th {\n",
       "        vertical-align: top;\n",
       "    }\n",
       "\n",
       "    .dataframe thead th {\n",
       "        text-align: right;\n",
       "    }\n",
       "</style>\n",
       "<table border=\"1\" class=\"dataframe\">\n",
       "  <thead>\n",
       "    <tr style=\"text-align: right;\">\n",
       "      <th></th>\n",
       "      <th>id</th>\n",
       "      <th>url</th>\n",
       "    </tr>\n",
       "  </thead>\n",
       "  <tbody>\n",
       "    <tr>\n",
       "      <th>0</th>\n",
       "      <td>0</td>\n",
       "      <td>https://www.groupedubreuil.com/</td>\n",
       "    </tr>\n",
       "    <tr>\n",
       "      <th>1</th>\n",
       "      <td>1</td>\n",
       "      <td>https://www.groupedubreuil.com/le-mot-des-pres...</td>\n",
       "    </tr>\n",
       "  </tbody>\n",
       "</table>\n",
       "</div>"
      ],
      "text/plain": [
       "  id                                                url\n",
       "0  0                    https://www.groupedubreuil.com/\n",
       "1  1  https://www.groupedubreuil.com/le-mot-des-pres..."
      ]
     },
     "execution_count": 2,
     "metadata": {},
     "output_type": "execute_result"
    }
   ],
   "source": [
    "df"
   ]
  },
  {
   "cell_type": "markdown",
   "metadata": {},
   "source": [
    "# Etape 2: Création du fichier Json pour la GC Function"
   ]
  },
  {
   "cell_type": "code",
   "execution_count": 3,
   "metadata": {},
   "outputs": [],
   "source": [
    "json_urls = json.load(open(\"/root/multisite-lighthouse-gcp/config.json\"))"
   ]
  },
  {
   "cell_type": "code",
   "execution_count": 4,
   "metadata": {
    "scrolled": false
   },
   "outputs": [],
   "source": [
    "json_urls['source'] = df.to_dict('records')\n",
    "json_urls['projectId'] = \"lighthousegb\"\n",
    "json_urls['datasetId'] = \"lighthouse\"\n",
    "json_urls['gcs']['bucketName'] = \"gb-lighthousereports\""
   ]
  },
  {
   "cell_type": "code",
   "execution_count": 5,
   "metadata": {},
   "outputs": [
    {
     "data": {
      "text/plain": [
       "{u'datasetId': 'lighthouse',\n",
       " u'gcs': {u'bucketName': 'gb-lighthousereports'},\n",
       " u'lighthouseFlags': {u'emulatedFormFactor': u'desktop',\n",
       "  u'output': [u'html', u'csv']},\n",
       " u'minTimeBetweenTriggers': 300000,\n",
       " u'projectId': 'lighthousegb',\n",
       " u'pubsubTopicId': u'launch-lighthouse',\n",
       " u'source': [{'id': '0', 'url': 'https://www.groupedubreuil.com/'},\n",
       "  {'id': '1', 'url': 'https://www.groupedubreuil.com/le-mot-des-presidents'}]}"
      ]
     },
     "execution_count": 5,
     "metadata": {},
     "output_type": "execute_result"
    }
   ],
   "source": [
    "json_urls"
   ]
  },
  {
   "cell_type": "code",
   "execution_count": 6,
   "metadata": {},
   "outputs": [],
   "source": [
    "with open(\"/root/multisite-lighthouse-gcp/config.json\", 'w') as f:\n",
    "    json.dump(json_urls, f, ensure_ascii=False)"
   ]
  },
  {
   "cell_type": "markdown",
   "metadata": {},
   "source": [
    "# Etape 3: Déploiement de la Google Cloud Fonction\n",
    "\n",
    "Cette partie peut prendre quelques minutes"
   ]
  },
  {
   "cell_type": "code",
   "execution_count": 7,
   "metadata": {},
   "outputs": [
    {
     "data": {
      "text/plain": [
       "0"
      ]
     },
     "execution_count": 7,
     "metadata": {},
     "output_type": "execute_result"
    }
   ],
   "source": [
    "import os\n",
    "\n",
    "os.system(\"gcloud functions deploy launchLighthouse --trigger-topic launch-lighthouse --memory 2048 --timeout 540 --runtime=nodejs8\")"
   ]
  },
  {
   "cell_type": "markdown",
   "metadata": {},
   "source": [
    "# Etape 4: Utilisation de Google Cloud Fonction\n",
    "Pour une première initialisation, il est nécessaire de le faire directement ligne de commande sans passer par Python."
   ]
  },
  {
   "cell_type": "code",
   "execution_count": 10,
   "metadata": {},
   "outputs": [
    {
     "data": {
      "text/plain": [
       "0"
      ]
     },
     "execution_count": 10,
     "metadata": {},
     "output_type": "execute_result"
    }
   ],
   "source": [
    "os.system(\"gcloud pubsub topics publish launch-lighthouse --message all\")"
   ]
  }
 ],
 "metadata": {
  "kernelspec": {
   "display_name": "Python 2",
   "language": "python",
   "name": "python2"
  },
  "language_info": {
   "codemirror_mode": {
    "name": "ipython",
    "version": 2
   },
   "file_extension": ".py",
   "mimetype": "text/x-python",
   "name": "python",
   "nbconvert_exporter": "python",
   "pygments_lexer": "ipython2",
   "version": "2.7.17"
  }
 },
 "nbformat": 4,
 "nbformat_minor": 2
}
